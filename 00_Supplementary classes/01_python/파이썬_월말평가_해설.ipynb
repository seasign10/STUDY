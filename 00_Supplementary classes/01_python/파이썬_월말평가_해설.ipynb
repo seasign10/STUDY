{
 "cells": [
  {
   "cell_type": "markdown",
   "metadata": {},
   "source": [
    "# 5번"
   ]
  },
  {
   "cell_type": "code",
   "execution_count": null,
   "metadata": {},
   "outputs": [],
   "source": [
    "class Point:\n",
    "    def __init__(self, x, y):\n",
    "        self.x = x\n",
    "        self.y = y\n",
    "\n",
    "class Rectangle:\n",
    "    def __init__(self, p1, p2):\n",
    "        self.p1 = p1\n",
    "        self.p2 = p2\n",
    "    \n",
    "    def get_area(self):\n",
    "        return abs(self.p1.x - self.p2.x) * abs(self.p1.y - self.p2.y)\n",
    "    \n",
    "    def get_perimeter(self):\n",
    "        return abs(self.p1.x - self.p2.x)*2 + abs(self.p1.y - self.p2.y)*2\n",
    "    \n",
    "    def is_square(self):\n",
    "        return abs(self.p1.x - self.p2.x) == abs(self.p1.y - self.p2.y)*"
   ]
  },
  {
   "cell_type": "markdown",
   "metadata": {},
   "source": [
    "# 4번"
   ]
  },
  {
   "cell_type": "code",
   "execution_count": null,
   "metadata": {},
   "outputs": [],
   "source": [
    "class Word:\n",
    "    def __init__(self):\n",
    "        self.wordbook = {}\n",
    "    \n",
    "    def add(self, eng, kor):\n",
    "        self.wordbook[eng] = kor\n",
    "#         self.wordbook.update(eng=kor)\n",
    "\n",
    "    def delete(self, eng):\n",
    "        if eng in self.wordbook:\n",
    "            self.wordbook.pop(eng)\n",
    "            return True\n",
    "        else:\n",
    "            return False\n",
    "    \n",
    "    def print(self):\n",
    "        for eng, kor in self.wordbook.items():\n",
    "            print(f'{eng}: {kor}')"
   ]
  },
  {
   "cell_type": "markdown",
   "metadata": {},
   "source": [
    "# 3번"
   ]
  },
  {
   "cell_type": "code",
   "execution_count": null,
   "metadata": {},
   "outputs": [],
   "source": [
    "# 반복되는 문자열에서 동일한 문자가 등장해도 연속되지 않으면 다시 COUNT 해야 한다.\n",
    "def summary(word):\n",
    "    \n",
    "    result = [] # 결과\n",
    "    tmp_list = [] # 잠시 거쳐가는 곳\n",
    "    \n",
    "    # 1-1 단어에서 문자를 하나씩 꺼낸다.\n",
    "    for char in word:\n",
    "        # 1-2 tmp_list 가 빈 리스트가 아니고 + tmp_list의 마지막 값과 char 가 같지 않으면,\n",
    "        # 마지막 요소가 char와 같지 않는다는 것은(True) 동일한 문자가 아닌 다른 문자의 시작이라는 말.\n",
    "        # 임시리스트의 마지막 요소를 결과 리스트에 추가하고 그 길이도 추가한다.\n",
    "        if tmp_list and tmp_list[-1] != char:\n",
    "            # 1-3 임시 리스트의 마지막 값을 추가\n",
    "            result.append(tmp_list[-1])\n",
    "            # 1-4 임시 리스트의 길이를 추가\n",
    "            result.append(f'{len(tmp_list)}')\n",
    "            # 1-5 임시 리스트를 비워준다.\n",
    "            tmp.list.clear()\n",
    "        # 1-6 새로운 글자를 계속 tmp_list 에 넣는다\n",
    "        # for 문 안에 있으니 for 문이 끝날 떄까지 반복한다.\n",
    "        tmp_list.append(char)\n",
    "    # 1-7 마지막 요소는 for문이 다 끝나 버리니 tmp_list[-1] != char 조건에서\n",
    "    # 비교할 char 가 없기 때문에 if 문이 아예 동작하지 않게 된다.\n",
    "    # 그래서 마지막으로 append 를 해줘야 한다.\n",
    "    result.append(tmp_list[-1])\n",
    "    result.append(f'{len(tmp_list)}')\n",
    "    # result = ['a','2','b','2','a','2','c','2']\n",
    "    \n",
    "    return ''.join(result)\n",
    "            "
   ]
  },
  {
   "cell_type": "markdown",
   "metadata": {},
   "source": [
    "# 2번"
   ]
  },
  {
   "cell_type": "code",
   "execution_count": null,
   "metadata": {},
   "outputs": [],
   "source": [
    "def alphabet_count(word):\n",
    "    # 1. 일반적인 풀이\n",
    "    result = {}\n",
    "    for char in word:\n",
    "        if result.get(char): # if char in result: 도 가능\n",
    "            result[char] += 1\n",
    "        else:\n",
    "            result[char] = 1\n",
    "    return result\n",
    "\n",
    "    # 2. 딕셔너리 컴프리헨션\n",
    "    return {char: word.count(char) for char in word }"
   ]
  },
  {
   "cell_type": "markdown",
   "metadata": {},
   "source": [
    "# 1번"
   ]
  },
  {
   "cell_type": "code",
   "execution_count": null,
   "metadata": {},
   "outputs": [],
   "source": [
    "def can_divide(numbers, divisor):\n",
    "    # 1. 일반적인 풀이\n",
    "    result = []\n",
    "    \n",
    "    for number in numbers:\n",
    "        if number % divisor == 0:\n",
    "            result.append(number)\n",
    "    if result == []:\n",
    "        result.append(-1)\n",
    "        \n",
    "    return sorted(result)\n",
    "\n",
    "    # 2. 리스트 컴프리헨션\n",
    "    result = [number for number in numbers if not number % divisor]\n",
    "    result = sorted(result) if result else [-1]\n",
    "    return result"
   ]
  }
 ],
 "metadata": {
  "kernelspec": {
   "display_name": "Python 3",
   "language": "python",
   "name": "python3"
  },
  "language_info": {
   "codemirror_mode": {
    "name": "ipython",
    "version": 3
   },
   "file_extension": ".py",
   "mimetype": "text/x-python",
   "name": "python",
   "nbconvert_exporter": "python",
   "pygments_lexer": "ipython3",
   "version": "3.7.3"
  },
  "toc": {
   "base_numbering": 1,
   "nav_menu": {},
   "number_sections": true,
   "sideBar": true,
   "skip_h1_title": false,
   "title_cell": "Table of Contents",
   "title_sidebar": "Contents",
   "toc_cell": false,
   "toc_position": {},
   "toc_section_display": true,
   "toc_window_display": false
  }
 },
 "nbformat": 4,
 "nbformat_minor": 2
}
