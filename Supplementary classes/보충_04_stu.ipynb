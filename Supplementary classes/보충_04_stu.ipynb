{
 "cells": [
  {
   "cell_type": "markdown",
   "metadata": {},
   "source": [
    "## 문제\n",
    "이메일을 보내면 이메일을 보냈다라고 True를 출력해주는 `send_email()` 메서드를 가진 `Email` 클래스를 작성하시오\n",
    "\n",
    "```python\n",
    "my_email = Email()\n",
    "my_email.is_sent # => False\n",
    "\n",
    "my_email.send_email()\n",
    "my_email.is_sent # => True\n",
    "```"
   ]
  },
  {
   "cell_type": "code",
   "execution_count": 9,
   "metadata": {},
   "outputs": [],
   "source": [
    "class Email:\n",
    "    \n",
    "    def __init__(self):\n",
    "        self.is_sent = False\n",
    "    \n",
    "    \n",
    "    def send_email(your_email):\n",
    "        your_email.is_sent = True\n"
   ]
  },
  {
   "cell_type": "code",
   "execution_count": 10,
   "metadata": {},
   "outputs": [],
   "source": [
    "your_email = Email()"
   ]
  },
  {
   "cell_type": "code",
   "execution_count": 11,
   "metadata": {},
   "outputs": [
    {
     "data": {
      "text/plain": [
       "False"
      ]
     },
     "execution_count": 11,
     "metadata": {},
     "output_type": "execute_result"
    }
   ],
   "source": [
    "your_email.is_sent"
   ]
  },
  {
   "cell_type": "code",
   "execution_count": 12,
   "metadata": {},
   "outputs": [],
   "source": [
    "your_email.send_email()"
   ]
  },
  {
   "cell_type": "code",
   "execution_count": 13,
   "metadata": {},
   "outputs": [
    {
     "data": {
      "text/plain": [
       "True"
      ]
     },
     "execution_count": 13,
     "metadata": {},
     "output_type": "execute_result"
    }
   ],
   "source": [
    "your_email.is_sent"
   ]
  },
  {
   "cell_type": "code",
   "execution_count": null,
   "metadata": {},
   "outputs": [],
   "source": [
    "my_email = Email('이해인')\n",
    "my_email.is_sent\n",
    "\n",
    "괄호안에 이름이 들어있으면 self.name = name 이라는 변수를 생성자안에 한줄 더 써넣어야 함."
   ]
  },
  {
   "cell_type": "markdown",
   "metadata": {},
   "source": [
    "## 문제\n",
    "\n",
    "아래처럼 리스트에 단일 값을 넣는 add() 메서드와 값을 두번 넣어주는 add_twice 메서드를 가진 `Bag` 클래스를 작성하시오\n",
    "\n",
    "```python\n",
    "bag = Bag()\n",
    "bag.add(1)\n",
    "bag.add_twice(5) # 들어가는 값이 있기 때문에 함수\n",
    "bag.data # 변수\n",
    "\n",
    "# 출력\n",
    "[1, 5, 5]\n",
    "```"
   ]
  },
  {
   "cell_type": "code",
   "execution_count": 19,
   "metadata": {},
   "outputs": [],
   "source": [
    "class Bag:\n",
    "    def __init__(self):\n",
    "        self.data = []\n",
    "        # 생성하는 순간\n",
    "        \n",
    "    def add(self, num):\n",
    "        self.data.append(num)\n",
    "        self.data\n",
    "        \n",
    "    def add_twice(self, num):\n",
    "        self.add(num)\n",
    "        self.add(num)\n",
    "        return self.data"
   ]
  },
  {
   "cell_type": "code",
   "execution_count": 20,
   "metadata": {},
   "outputs": [],
   "source": [
    "bag = Bag()"
   ]
  },
  {
   "cell_type": "code",
   "execution_count": 23,
   "metadata": {},
   "outputs": [],
   "source": [
    "bag.add(1)"
   ]
  },
  {
   "cell_type": "code",
   "execution_count": 24,
   "metadata": {},
   "outputs": [
    {
     "data": {
      "text/plain": [
       "[1, 5, 5, 1, 5, 5]"
      ]
     },
     "execution_count": 24,
     "metadata": {},
     "output_type": "execute_result"
    }
   ],
   "source": [
    "bag.add_twice(5)"
   ]
  },
  {
   "cell_type": "code",
   "execution_count": 18,
   "metadata": {},
   "outputs": [
    {
     "data": {
      "text/plain": [
       "[1, 5, 5]"
      ]
     },
     "execution_count": 18,
     "metadata": {},
     "output_type": "execute_result"
    }
   ],
   "source": [
    "bag.data"
   ]
  },
  {
   "cell_type": "markdown",
   "metadata": {},
   "source": [
    "## 문제\n",
    "정사각형의 넓이를 구해주는 `square_area()` 메서드를 가진 파이썬 클래스 `SquareClass` 를 작성하십시오.\n",
    "\n",
    "```python\n",
    "sample = SquareClass(12)\n",
    "print(sample.square_area())\n",
    "\n",
    "# 출력\n",
    "144\n",
    "```"
   ]
  },
  {
   "cell_type": "code",
   "execution_count": 30,
   "metadata": {},
   "outputs": [
    {
     "ename": "NameError",
     "evalue": "name 'num' is not defined",
     "output_type": "error",
     "traceback": [
      "\u001b[1;31m---------------------------------------------------------------------------\u001b[0m",
      "\u001b[1;31mNameError\u001b[0m                                 Traceback (most recent call last)",
      "\u001b[1;32m<ipython-input-30-fdff8b91d32f>\u001b[0m in \u001b[0;36m<module>\u001b[1;34m\u001b[0m\n\u001b[0;32m      6\u001b[0m         \u001b[1;32mreturn\u001b[0m \u001b[0mself\u001b[0m\u001b[1;33m.\u001b[0m\u001b[0mwidth\u001b[0m\u001b[1;33m**\u001b[0m\u001b[1;36m2\u001b[0m\u001b[1;33m\u001b[0m\u001b[1;33m\u001b[0m\u001b[0m\n\u001b[0;32m      7\u001b[0m \u001b[1;33m\u001b[0m\u001b[0m\n\u001b[1;32m----> 8\u001b[1;33m \u001b[0mprint\u001b[0m\u001b[1;33m(\u001b[0m\u001b[0mnum\u001b[0m\u001b[1;33m.\u001b[0m\u001b[0msquare_area\u001b[0m\u001b[1;33m(\u001b[0m\u001b[1;33m)\u001b[0m\u001b[1;33m)\u001b[0m\u001b[1;33m\u001b[0m\u001b[1;33m\u001b[0m\u001b[0m\n\u001b[0m",
      "\u001b[1;31mNameError\u001b[0m: name 'num' is not defined"
     ]
    }
   ],
   "source": [
    "class SquareClass:\n",
    "    def __init__(self, num):\n",
    "        self.width = num      # width 변수명 / num 인자 => 굳이 이름을 똑같이 안맞춰도 되는 것, 변수명을 알아서 지정해준다.\n",
    "        \n",
    "    def square_area(self):\n",
    "        return self.width**2\n",
    "\n",
    "print(num.square_area())?????"
   ]
  },
  {
   "cell_type": "markdown",
   "metadata": {},
   "source": [
    "## 문제\n",
    "`get_String()`과 `print_String()`의 두 가지 메소드를 가진 파이썬 클래스 `MyClass`를 작성하십시오. \n",
    "\n",
    "`get_String()`은 사용자로부터 문자열을 받고 `print_String()`은 입력 문자열이 대문자였다면 소문자로, 소문자였다면 대문자로로 인쇄합니다.\n",
    "\n",
    "```python\n",
    "sample = MyClass()\n",
    "\n",
    "# 입력\n",
    "sample.get_String()\n",
    "\n",
    "asda\n",
    "\n",
    "# 출력\n",
    "sample.print_String()\n",
    "\n",
    "ASDA\n",
    "```"
   ]
  },
  {
   "cell_type": "code",
   "execution_count": 33,
   "metadata": {},
   "outputs": [],
   "source": [
    "class MyClass:\n",
    "    def __init__(self):\n",
    "        self.x = ''\n",
    "        \n",
    "    def get_String(self):\n",
    "        self.x = input() # input은 형변환 업이 받을 수 있다.\n",
    "        \n",
    "    def print_String(self):\n",
    "        if self.x.islower():\n",
    "            return self.x.upper()\n",
    "        else:\n",
    "            return self.x.lower()\n"
   ]
  },
  {
   "cell_type": "code",
   "execution_count": 38,
   "metadata": {},
   "outputs": [
    {
     "name": "stdout",
     "output_type": "stream",
     "text": [
      "DSFSFDF\n"
     ]
    }
   ],
   "source": [
    "sample = MyClass()\n",
    "sample.get_String()"
   ]
  },
  {
   "cell_type": "code",
   "execution_count": 39,
   "metadata": {},
   "outputs": [
    {
     "data": {
      "text/plain": [
       "'dsfsfdf'"
      ]
     },
     "execution_count": 39,
     "metadata": {},
     "output_type": "execute_result"
    }
   ],
   "source": [
    "sample.print_String()"
   ]
  },
  {
   "cell_type": "code",
   "execution_count": null,
   "metadata": {},
   "outputs": [],
   "source": []
  },
  {
   "cell_type": "code",
   "execution_count": null,
   "metadata": {},
   "outputs": [],
   "source": []
  },
  {
   "cell_type": "code",
   "execution_count": null,
   "metadata": {},
   "outputs": [],
   "source": []
  },
  {
   "cell_type": "markdown",
   "metadata": {},
   "source": [
    "## 문제\n",
    "Student 클래스는 인스턴스 생성시 이름과 나이를 받는다.\n",
    "\n",
    "Student 클래스로 만든 인스턴스를 print 로 출력 시\n",
    "\n",
    "`이름은 홍길동, 나이는 30` 형식으로 출력된다.\n",
    "\n",
    "ClassMate 클래스는 학생 인스턴스 2개를 인자로 받아서 인스턴스를 만든다.(한 커플이 만들어진 것)\n",
    "\n",
    "그리고 인스턴스 생성시마다 카운트 한다.\n",
    "\n",
    "ClassMate 클래스로 만든 인스턴스를 print 로 출력 시\n",
    "\n",
    "`홍길동과 김싸피는 커플입니다.` 형식으로 출력된다.\n",
    "\n",
    "`display()` 메서드는 커플의 각각 이름을 출력한다.\n",
    "\n",
    "`sum_age()` 메서드는 커플의 나이를 합해서 출력한다.\n",
    "\n",
    "`is_teen()` 메서드는 두 커플이 모두 10대일 시 True 를 출력한다.\n",
    "\n",
    "`how_many()` 메서드는 현재 몇 커플이 만들어졌는지 클래스 변수 count 값을 출력한다.\n",
    "\n",
    "```python\n",
    "stu1 = Student('홍길동', 30)\n",
    "stu2 = Student('김싸피', 19)\n",
    "print(stu1) # 이름은 홍길동, 나이는 30\n",
    "\n",
    "mate = ClassMate(stu1, stu2)\n",
    "print(mate) # 홍길동와 김싸피은 커플입니다.\n",
    "\n",
    "room.display() # 홍길동 김싸피\n",
    "\n",
    "room.sum_age() # 49\n",
    "\n",
    "room.is_teen() # False\n",
    "\n",
    "ClassMate.how_many() # 1 쌍의 짝이 있습니다.\n",
    "```\n",
    "\n"
   ]
  },
  {
   "cell_type": "code",
   "execution_count": 54,
   "metadata": {},
   "outputs": [],
   "source": [
    "class Student:\n",
    "    def __init__(self, name, age):\n",
    "        self.name = name\n",
    "        self.age = age\n",
    "        \n",
    "    def __str__(self):\n",
    "        return f'이름은 {self.name}, 나이는 {self.age}'\n",
    "    \n",
    "class ClassMate:\n",
    "    count = 0\n",
    "    \n",
    "    def __init__(self, x, y): # 인자를 두개 받기 때문\n",
    "        self.x = x\n",
    "        self.y = y\n",
    "        ClassMate.count += 1\n",
    "    \n",
    "    def display(self):\n",
    "        return (self.x.name, self.y.name)\n",
    "    \n",
    "    def sum_age(self):\n",
    "        return (self.x.age + self.y.age)\n",
    "    \n",
    "    def is_teen(self):\n",
    "        return self.x.age < 20 and self.y.age < 20\n",
    "    \n",
    "    @classmethod\n",
    "    def how_many(cls):\n",
    "        return f'{cls.count}쌍의 커플이 있습니다.'\n",
    "    \n",
    "    \n",
    "    \n",
    "    \n",
    "    \n",
    "    \n",
    "    def __str__(self):\n",
    "        return f'{self.x.name}와 {self.y.name}는 커플입니다.'"
   ]
  },
  {
   "cell_type": "code",
   "execution_count": 55,
   "metadata": {},
   "outputs": [
    {
     "name": "stdout",
     "output_type": "stream",
     "text": [
      "이름은 홍길동, 나이는 30\n"
     ]
    }
   ],
   "source": [
    "stu1 = Student('홍길동', 30)\n",
    "stu2 = Student('김싸피', 19)\n",
    "print(stu1) # 이름은 홍길동, 나이는 30"
   ]
  },
  {
   "cell_type": "code",
   "execution_count": 56,
   "metadata": {},
   "outputs": [
    {
     "name": "stdout",
     "output_type": "stream",
     "text": [
      "홍길동와 김싸피는 커플입니다.\n"
     ]
    }
   ],
   "source": [
    "mate = ClassMate(stu1, stu2)\n",
    "print(mate) # 홍길동와 김싸피은 커플입니다."
   ]
  },
  {
   "cell_type": "code",
   "execution_count": 57,
   "metadata": {},
   "outputs": [
    {
     "data": {
      "text/plain": [
       "('홍길동', '김싸피')"
      ]
     },
     "execution_count": 57,
     "metadata": {},
     "output_type": "execute_result"
    }
   ],
   "source": [
    "mate.display() # 홍길동 김싸피"
   ]
  },
  {
   "cell_type": "code",
   "execution_count": 58,
   "metadata": {},
   "outputs": [
    {
     "data": {
      "text/plain": [
       "49"
      ]
     },
     "execution_count": 58,
     "metadata": {},
     "output_type": "execute_result"
    }
   ],
   "source": [
    "mate.sum_age() # 49"
   ]
  },
  {
   "cell_type": "code",
   "execution_count": 59,
   "metadata": {},
   "outputs": [
    {
     "data": {
      "text/plain": [
       "False"
      ]
     },
     "execution_count": 59,
     "metadata": {},
     "output_type": "execute_result"
    }
   ],
   "source": [
    "mate.is_teen() # False"
   ]
  },
  {
   "cell_type": "code",
   "execution_count": 60,
   "metadata": {},
   "outputs": [
    {
     "data": {
      "text/plain": [
       "'1쌍의 커플이 있습니다.'"
      ]
     },
     "execution_count": 60,
     "metadata": {},
     "output_type": "execute_result"
    }
   ],
   "source": [
    "ClassMate.how_many() # 1 쌍의 짝이 있습니다."
   ]
  }
 ],
 "metadata": {
  "kernelspec": {
   "display_name": "Python 3",
   "language": "python",
   "name": "python3"
  },
  "language_info": {
   "codemirror_mode": {
    "name": "ipython",
    "version": 3
   },
   "file_extension": ".py",
   "mimetype": "text/x-python",
   "name": "python",
   "nbconvert_exporter": "python",
   "pygments_lexer": "ipython3",
   "version": "3.7.3"
  },
  "toc": {
   "base_numbering": 1,
   "nav_menu": {},
   "number_sections": true,
   "sideBar": true,
   "skip_h1_title": false,
   "title_cell": "Table of Contents",
   "title_sidebar": "Contents",
   "toc_cell": false,
   "toc_position": {},
   "toc_section_display": true,
   "toc_window_display": false
  }
 },
 "nbformat": 4,
 "nbformat_minor": 2
}
