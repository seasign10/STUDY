{
 "cells": [
  {
   "cell_type": "markdown",
   "metadata": {},
   "source": [
    "### 파이썬에서 제공하는 built-in-function이 아닌 것은?\n",
    "\n",
    "```python\n",
    "1. abs() # 절대값\n",
    "\n",
    "2. sqrt() # 제곱근\n",
    "import math\n",
    "math.sqrt(4)\n",
    "\n",
    "3. list() # 리스트 생성\n",
    "\n",
    "4. map() # map object\n",
    "list(map(str, range(1, 3)))\n",
    "```"
   ]
  },
  {
   "cell_type": "markdown",
   "metadata": {},
   "source": [
    "### 다음 중 시퀀스 자료형의 특징이 아닌 것을 고르시오.\n",
    "\n",
    "1. list, tuple, range, string, binary 같은 자료형 타입이 있다. \n",
    "2. 데이터가 연속적으로 나열되어 있는 자료형이다.\t\n",
    "3. in 연산자를 통해 특정 값이 시퀀스 자료형에 있는지 확인할 수 있다.\t\n",
    "4. 기본적으로 정렬이 되어 있지만, 사용자 임의대로 순서를 변경할 수 있다.\n",
    "-> 파이썬 시퀀스 자료형은 순서대로 나열된 것이지 정렬된 것을 의미하진 않는다.\n",
    "\n",
    "numbers = [4, 3, 2, 1] -> 정렬된 것이 아님. / 기본적으로 정렬되어있다고 하지않고 나열되어 있다고 함.\n",
    "\n",
    "numbers.sort() -> 정렬"
   ]
  },
  {
   "cell_type": "markdown",
   "metadata": {},
   "source": [
    "### 보기의 파이썬 코드를 실행하였을 때, 출력되는 모습으로 옳은 것을 고르시오.\n",
    "```python\n",
    "names = ['John', 'Ron', 'James', 'Betty']\n",
    "print(names[-2][-2])\n",
    "\n",
    "=> e\n",
    "```"
   ]
  },
  {
   "cell_type": "markdown",
   "metadata": {},
   "source": [
    "### 보기의 파이썬 코드를 작성한 후 p3.population을 출력하면 나오는 값을 고르시오.\n",
    "\n",
    "```python\n",
    "class Person:\n",
    "    population = 0\n",
    "    \n",
    "    def __init__(self, name):\n",
    "        self.name = name\n",
    "        Person.population += 1\n",
    "\n",
    "p1 = Person('hong')\n",
    "p2 = Person('kim')\n",
    "p3 = Person('kang')\n",
    "\n",
    "=> 3\n",
    "```"
   ]
  },
  {
   "cell_type": "markdown",
   "metadata": {},
   "source": [
    "### 보기의 파이썬 코드를 실행하였을 때,  오류가 발생하는 것을 고르시오.\n",
    "\n",
    "```python\n",
    "my_complex = 3+4j\n",
    "my_list = [1, 2, 3]\n",
    "my_dict = {1: 1, 2: 2}\n",
    "```\n",
    "\n",
    "1. my_complex.real()\t\n",
    "2. my_list.sort()\t\n",
    "3. my_list.pop()\t\n",
    "4. my_dict.keys()\n",
    "\n",
    "=> 1번은 괄호가 쓰이지 않음. 인스턴스 메서드에는 괄호가 쓰이지 않음 real은 인스턴스 변수"
   ]
  },
  {
   "cell_type": "markdown",
   "metadata": {},
   "source": [
    "### 보기의 파이썬 코드를 실행하였을 때, 화면에 출력되는 결과를 작성하시오.\n",
    "\n",
    "```python\n",
    "def func(c, b, a):\n",
    "    return a*b + c\n",
    "\n",
    "print(func(2, 5, 4))\n",
    "```"
   ]
  },
  {
   "cell_type": "code",
   "execution_count": null,
   "metadata": {},
   "outputs": [],
   "source": [
    "4 * 5 + 2 = 22"
   ]
  },
  {
   "cell_type": "markdown",
   "metadata": {},
   "source": [
    "### 보기의 코드를 실행하면 출력되는 결과는 <class '______'> 이다. 빈칸에 들어갈 말을 고르시오.\n",
    "\n",
    "```python\n",
    "print(type({ 'a': 'apple' }))\n",
    "```"
   ]
  },
  {
   "cell_type": "code",
   "execution_count": null,
   "metadata": {},
   "outputs": [],
   "source": [
    "dict"
   ]
  },
  {
   "cell_type": "markdown",
   "metadata": {},
   "source": [
    "### 함수에 대한 설명으로 옳지 않은 것을 고르시오.\n",
    "\n",
    "1. 함수의 인자(parameter)는 함수 선언시 설정한 값이며, 인수(argument)는 함수 호출시 넘겨주는 값이다.\t\n",
    "2. 함수는 오직 하나의 객체만 반환할 수 있다.\t\n",
    "3. 함수에서 return을 작성하지 않으면 코드 실행시 오류가 발생한다.\t# None을 반환\n",
    "4. 같은 이름의 함수를 선언하면, 함수 호출 시 나중에 선언된 함수가 실행된다.\n",
    "\n",
    "=> 2"
   ]
  },
  {
   "cell_type": "code",
   "execution_count": null,
   "metadata": {},
   "outputs": [],
   "source": [
    "def fuc(a, b): # pararmeter\n",
    "    pass\n",
    "\n",
    "fuc(1, 2) # argument"
   ]
  },
  {
   "cell_type": "markdown",
   "metadata": {},
   "source": [
    "### 다섯 개의 정수 0을 가진 리스트를 만드는 방법 중 틀린 것을 고르시오.\n",
    "\n",
    "```python\n",
    "1. numbers = [0, 0, 0, 0, 0]\t\n",
    "2. numbers = [0] * 5\t\n",
    "3. numbers = [] ; numbers.append(0*5)\t\n",
    "4. numbers = [0 for i in range(5)]\n",
    "```"
   ]
  },
  {
   "cell_type": "code",
   "execution_count": null,
   "metadata": {},
   "outputs": [],
   "source": [
    "numbers = [] ; numbers.append(0*5) # 0*5 == 0 => append(0)"
   ]
  },
  {
   "cell_type": "markdown",
   "metadata": {},
   "source": [
    "### 보기의 파이썬 코드를 실행하였을 때, 출력되는 결과를 고르시오.\n",
    "\n",
    "\n",
    "- bool, Number(int, float, clomplex) 타입의 자료형은 파이썬 내부적으로 암시적인 형변환을 해준다.\n",
    "\n",
    "```python\n",
    "result = 4 + True + False + 5\n",
    "\n",
    "print(result)\n",
    "```"
   ]
  },
  {
   "cell_type": "code",
   "execution_count": 1,
   "metadata": {},
   "outputs": [
    {
     "data": {
      "text/plain": [
       "True"
      ]
     },
     "execution_count": 1,
     "metadata": {},
     "output_type": "execute_result"
    }
   ],
   "source": [
    "True == 1\n",
    "False == 0"
   ]
  },
  {
   "cell_type": "markdown",
   "metadata": {},
   "source": [
    "### 보기의 파이썬 코드를 실행하였을 때, 결과로 옳은 것을 고르시오.\n",
    "\n",
    "```python\n",
    "s = 'hello my name is ssafy'\n",
    "for i in s:\n",
    "    if i == 'm':\n",
    "        print(s)\n",
    "```"
   ]
  },
  {
   "cell_type": "code",
   "execution_count": null,
   "metadata": {},
   "outputs": [],
   "source": [
    "hello my name is ssafy\n",
    "hello my name is ssafy"
   ]
  },
  {
   "cell_type": "markdown",
   "metadata": {},
   "source": [
    "### 보기의 파이썬 코드를 실행하였을 때, 결과로 옳은 것을 고르시오.\n",
    "\n",
    "```python\n",
    "d1 = {'d': dict()}\n",
    "d2 = dict(d={})\n",
    "```\n",
    "\n",
    "1. d1 == d2 는 False 다.\t\n",
    "2. len(d1) 은 1, len(d2) 는 0 이다.\t=> 1이다.\n",
    "3. id(d1) == id(d2) 는 True 다.\t\n",
    "4. d1 의 value 와 d2 의 value 는 모두 비어있는 딕셔너리다."
   ]
  },
  {
   "cell_type": "code",
   "execution_count": null,
   "metadata": {},
   "outputs": [],
   "source": [
    "d1 == d2 == {'d': {}}"
   ]
  },
  {
   "cell_type": "markdown",
   "metadata": {},
   "source": [
    "### 보기의 파이썬 코드를 실행하였을 때, 결과로 옳은 것을 고르시오.\n",
    "\n",
    "```python\n",
    "fruits = { 'apple': '사과', 'banana': '바나나' }\n",
    "a = fruits.get('apple')\n",
    "b = fruits.get('cherry')\n",
    "c = fruits.get('melon', True) # 키가 없을때 원래 None을 반환하지만, 뒤의 변수(True)가 있으면 True로 반환\n",
    "d = { a: b }\n",
    "if c:\n",
    "    print(d)\n",
    "```\n",
    "\n",
    "1. 에러가 난다.\t\n",
    "2. **b 는 None 이다.**\t\n",
    "3. 실행하면 아무것도 출력되지 않는다.\t\n",
    "4. d 는 { 'apple': 'cherry' } 다."
   ]
  },
  {
   "cell_type": "markdown",
   "metadata": {},
   "source": [
    "### 보기의 파이썬 코드를 실행하였을 때, 화면에 출력되는 결과로 옳은 것은?\n",
    "\n",
    "```python\n",
    "def func(c='5', *args): # args가 언패킹 되면서 키워드인자 c는 5가들어갔지만 3이 들어간다\n",
    "    a, c, b = args\n",
    "    return a + b + c\n",
    "\n",
    "print(func('3','4','1','2')) # 위치인자 때문에 3이 먼저 c = 으로 들어가게 되지만 다시한번 밑에서 덮어 씌워진다.\n",
    "```"
   ]
  },
  {
   "cell_type": "markdown",
   "metadata": {},
   "source": [
    "c의 기본값이 정의되어 있지만 인수가 넘어왔으므로 '3'으로 최종 할당되고, *args 가변인자이므로 몇개가 오더라도 하나의 args tuple 로 할당된다.\n",
    "\n",
    "tuple에 할당된 값 ('4', '1', '2') 변수 a, c, b에 순서대로 할당 되고, 이 과정에서 c에 할당되었던 '3'이 '1'로 바뀌게 된다.\n",
    "```python\n",
    "c = '3' args = ('4', '1', '2')\n",
    "a = 4\n",
    "c = 1\n",
    "b = 2\n",
    "\n",
    "=> 421\n",
    "```"
   ]
  },
  {
   "cell_type": "markdown",
   "metadata": {},
   "source": [
    "### 보기의 파이썬 코드를 실행하였을 때, 출력되는 결과로 옳은 것을 고르시오.\n",
    "\n",
    "```python\n",
    "name = 'hong' # 전역 변수 \n",
    "\n",
    "class Person:\n",
    "    name = 'choi' # 지역(로컬) 변수\n",
    "    def greeting(self):\n",
    "        print(name) # 최를 담으려면 Person.name / 킴을 담으려면 self.name\n",
    "\n",
    "p1 = Person()\n",
    "p1.name = 'kim'\n",
    "p1.greeting()\n",
    "```\n",
    "\n",
    "- 인스턴스의 name을 호출하기 위해서는 self.name 이어야 한다.\n",
    "- 인스턴스 입장에서 name이 없기 때문에 클래스로 찾아 갔지만 클래스에서도 name을 찾지 못한다. (Person.name인 클래스 변수가 아니었기 때문에)\n",
    "- 결국 함수 -> 클래스 -> 전역 순으로 이름을 찾게 되므로 전역변수인 name='hong'을 프린트 하게 된다.\n",
    "\n",
    "\n",
    "\n",
    "1. kim\t\n",
    "2. choi\t\n",
    "3. **hong**\t\n",
    "4. None"
   ]
  },
  {
   "cell_type": "markdown",
   "metadata": {},
   "source": [
    "### 보기의 my_int가 정수형인지 확인할 수 있는 방법 중 옳은 것을 고르시오.\n",
    "\n",
    "```python\n",
    "my_int = 3\n",
    "```\n",
    "1. isinstance(int, my_int)\t\n",
    " - isintatnce(인스턴스, 클래스) my_int 먼저 써야함\n",
    "\n",
    "\n",
    "2. my_int == 3\t\n",
    " - 단순한 값 비교 (타입 확인이 암됨 - 정수형인지 확인 할 수 있는지가 문제)\n",
    "\n",
    "\n",
    "3. isinstance(my_int, 3)\t\n",
    " - 2번과 비슷.\n",
    "\n",
    "\n",
    "4. **type(my_int) == int**\n",
    " - isinstance(my_int,int) "
   ]
  },
  {
   "cell_type": "markdown",
   "metadata": {},
   "source": [
    "### 보기의 파이썬 코드를 작성한 후 인스턴스를 만드려고 한다. 다음 중 옳은 것을 고르시오.\n",
    "\n",
    "```python\n",
    "class Person:\n",
    "    def __init__(self, name, age):\n",
    "        self.name = name\n",
    "```\n",
    "\n",
    "1. p1 = Person(p1, 'hong', 100)\t\n",
    "2. p2 = Person('kim')\n",
    "3. **p3 = Person(age=3, name='kang')**\n",
    " - 함수와 마찬가지로 순서가 바뀌어도 키워드 인자로 넘겨주면 문제없이 호출이 가능하다.\n",
    " \n",
    "4. p4 = Person()\n"
   ]
  },
  {
   "cell_type": "markdown",
   "metadata": {},
   "source": [
    "### 보기의 파이썬 코드를 실행하였을 때, 출력되는 결과를 작성하시오.\n",
    "\n",
    "```python\n",
    "word = 'python'\n",
    "\n",
    "indexing = word[3:8]\n",
    "\n",
    "print(indexing)\n",
    "```"
   ]
  },
  {
   "cell_type": "code",
   "execution_count": null,
   "metadata": {},
   "outputs": [],
   "source": [
    "'hon'"
   ]
  },
  {
   "cell_type": "markdown",
   "metadata": {},
   "source": [
    "### 보기의 파이썬 코드를 실행하였을 때, result 변수에 들어있는 값을 작성하시오.\n",
    "\n",
    "```python\n",
    "def my_sum(a, b):\n",
    "    c = a + b\n",
    "    print(c)\n",
    "\n",
    "result = my_sum(5, 8)\n",
    "```"
   ]
  },
  {
   "cell_type": "code",
   "execution_count": null,
   "metadata": {},
   "outputs": [],
   "source": [
    "None"
   ]
  },
  {
   "cell_type": "markdown",
   "metadata": {},
   "source": [
    "### 보기의 파이썬 코드를 실행하였을 때, 결과로 옳은 것을 고르시오.\n",
    "\n",
    "```python\n",
    "string = 'I am hungry'\n",
    "result = ''\n",
    "for idx, value in enumerate(string):\n",
    "    if idx % 2:\n",
    "        result += value.upper()\n",
    "    else:\n",
    "        result += value\n",
    "print(result)\n",
    "```\n",
    "\n",
    "1. I AM HUNGRY\t\n",
    "2. **I aM HuNgRy** # 공백도 인덱스에 속하는 것을 잊지 말아야 한다.\n",
    "3. I Am hUnGrY\t\n",
    "4. 오류 발생"
   ]
  },
  {
   "cell_type": "markdown",
   "metadata": {},
   "source": [
    "### 보기의 파이썬 코드를 실행하였을 때, 다음 중 옳은 것을 고르시오.\n",
    "\n",
    "```python\n",
    "d = {'a': 1, 'b': 2}\n",
    "a1 = d.update(c=3)\n",
    "a2 = a1\n",
    "```\n",
    "\n",
    "1. len(a1) 은 2 다. # 틀림 None값이기 때문에 len이 없음.\n",
    "2. a1 와 a2 는 같은 딕셔너리를 가리키고 있다. # None\n",
    " - 값 뿐만이 아니라 id도 같은지 물어보고 있다.update 는 리턴값이 없음. a1 = None\n",
    "3. 이 코드는 에러가 발생한다. # 에러 x\n",
    "4. **보기 중에는 답이 없다.**\n",
    "\n",
    "   \n",
    "    - .update 메서드는 원본을 변경하고 return 값은 없다. (None) / sort와 비슷"
   ]
  },
  {
   "cell_type": "markdown",
   "metadata": {},
   "source": [
    "### 보기의 파이썬 코드를 실행하였을 때, 화면에 출력되는 결과로 옳은 것은?\n",
    "\n",
    "```python\n",
    "def func(a, b=1, c=2, *args, **kwargs):\n",
    "    d = sum([n*2 for n in args if n > 2])\n",
    "    e = sum([v*v for k, v in kwargs.items()])\n",
    "    return a + b + c + d + e\n",
    "\n",
    "print(func(9, 4, 2, 3, 1, 7, d=3, e=6))\n",
    "```\n",
    "\n",
    "1. 80\t\n",
    "2. 81\t\n",
    "3. 82\t\n",
    "4. 83"
   ]
  },
  {
   "cell_type": "code",
   "execution_count": null,
   "metadata": {},
   "outputs": [],
   "source": [
    "a = 9\n",
    "b = 4\n",
    "c = 2\n",
    "args = (3, 1, 7)\n",
    "kwargs = {'d'=3, 'e'=6}\n",
    "\n",
    "3*2 + 7*2 = d\n",
    "3*3 + 6*6 = e\n",
    "\n",
    "=> 80"
   ]
  },
  {
   "cell_type": "markdown",
   "metadata": {},
   "source": [
    "### 보기는 재귀 함수를 통해 구현된 피보나치를 구하는 파이썬 코드이다. 이 코드를 실행하였을 때, fib(0)과 fib(1)이 호출되는 횟수를 각각 나타낸 것으로 옳은 것은?\n",
    "\n",
    "```python\n",
    "def fib(n):\n",
    "    if n == 0 or n==1:\n",
    "        return 1\n",
    "    else:\n",
    "        return fib(n-1) + fib(n-2)\n",
    "\n",
    "print(fib(4))\n",
    "```\n",
    "\n",
    "1. 1번, 4번\t\n",
    "2. **2번, 3번**\t\n",
    "3. 3번, 2번\t\n",
    "4. 4번, 1번"
   ]
  },
  {
   "cell_type": "markdown",
   "metadata": {},
   "source": [
    "<img src=\"https://user-images.githubusercontent.com/52684457/62532630-cbbc8d80-b87f-11e9-80f4-0ce850d4b86d.png\">"
   ]
  },
  {
   "cell_type": "markdown",
   "metadata": {},
   "source": [
    "### 보기의 파이썬 코드를 실행하였을 때, 화면에 출력되는 결과를 작성하시오.\n",
    "\n",
    "```python\n",
    "LEGB\n",
    "\n",
    "a = 1 # 전역 변수\n",
    "def func_1():\n",
    "    a = 5 # 지역 변수\n",
    "    # print(a)를 하지 않는 이상 전혀 모르는 a 전혀 다른공간에 존재하는 a\n",
    "    func_2()\n",
    "\n",
    "def func_2(): # a가 없음\n",
    "    print(a, end='') # 띄어쓰기 x\n",
    "\n",
    "func_1()\n",
    "print(a) # a = 1\n",
    "```"
   ]
  },
  {
   "cell_type": "markdown",
   "metadata": {},
   "source": [
    "### 보기의 파이썬 코드를 실행하였을 때, 틀린 것을 고르시오.\n",
    "\n",
    "```python\n",
    "import copy\n",
    "\n",
    "list1 = [3, 'a', 'b']\n",
    "list2 = [1, 2, list1] # 할당이기 때문에 list1은 같은곳을 바라봄\n",
    "\n",
    "list3 = list1[:] # 다른 곳을 바라봄\n",
    "list4 = copy.copy(list2) # 얕은복사기 때문에 안에있던 list1은 같은 아이디를 바라보는게 3개가 됨\n",
    "list5 = copy.deepcopy(list2) # 깊은 복사기 때문에 어느것도 참조하지않고 각각 다른 곳을 바라보며 영향을 주지 않음\n",
    "```\n",
    "\n",
    "\n",
    "1. list1 == list3의 결과는 True이다. \t# 서로 다른곳을 바라보고있지만 값 자체는 같음 (is~로 시작하는게 아님)\n",
    "2. list4[2][0] = 4 / print(list2[2][0])의 결과는 4이다. \n",
    "3. list4[2] = 5 / print(list2[2])의 결과는 5이다.\n",
    "     -  5로 연결이 되면서 연결이 끊김 => 1, 2, 5라는 리스트가되면서 list1이 바뀐게 아님\n",
    "4. list5[2][1] = 3 / print(list2[2][1])의 결과는 'a'이다."
   ]
  },
  {
   "cell_type": "code",
   "execution_count": null,
   "metadata": {},
   "outputs": [],
   "source": []
  },
  {
   "cell_type": "code",
   "execution_count": null,
   "metadata": {},
   "outputs": [],
   "source": []
  },
  {
   "cell_type": "code",
   "execution_count": null,
   "metadata": {},
   "outputs": [],
   "source": []
  },
  {
   "cell_type": "code",
   "execution_count": null,
   "metadata": {},
   "outputs": [],
   "source": []
  },
  {
   "cell_type": "code",
   "execution_count": null,
   "metadata": {},
   "outputs": [],
   "source": [
    "람다함수(익명함수) / 제너레이터 / 데코레이터 => 심화"
   ]
  }
 ],
 "metadata": {
  "kernelspec": {
   "display_name": "Python 3",
   "language": "python",
   "name": "python3"
  },
  "language_info": {
   "codemirror_mode": {
    "name": "ipython",
    "version": 3
   },
   "file_extension": ".py",
   "mimetype": "text/x-python",
   "name": "python",
   "nbconvert_exporter": "python",
   "pygments_lexer": "ipython3",
   "version": "3.7.3"
  },
  "toc": {
   "base_numbering": 1,
   "nav_menu": {},
   "number_sections": true,
   "sideBar": true,
   "skip_h1_title": false,
   "title_cell": "Table of Contents",
   "title_sidebar": "Contents",
   "toc_cell": false,
   "toc_position": {},
   "toc_section_display": true,
   "toc_window_display": false
  }
 },
 "nbformat": 4,
 "nbformat_minor": 2
}
