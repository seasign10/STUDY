{
 "cells": [
  {
   "cell_type": "markdown",
   "metadata": {},
   "source": [
    "### 문제\n",
    "1부터 입력된 숫자 값까지 키로 설정하고 값은 키의 제곱이 되는 딕셔너리를 작성하시오\n",
    "\n",
    "```python\n",
    "# 입력\n",
    "Input a number 5\n",
    "# 출력\n",
    "{1: 1, 2: 4, 3: 9, 4: 16, 5: 25}\n",
    "```"
   ]
  },
  {
   "cell_type": "code",
   "execution_count": 2,
   "metadata": {},
   "outputs": [
    {
     "data": {
      "text/plain": [
       "{1: 1, 2: 4, 3: 9, 4: 16, 5: 25}"
      ]
     },
     "execution_count": 2,
     "metadata": {},
     "output_type": "execute_result"
    }
   ],
   "source": [
    "n = 5\n",
    "Dict = {x: x**2 for x in range(1, n+1)}\n",
    "\n",
    "Dict"
   ]
  },
  {
   "cell_type": "markdown",
   "metadata": {},
   "source": [
    "### 문제\n",
    "딕셔너리의 모든 값을 곱한 값을 구하시오\n",
    "```python\n",
    "my_dict = {'one': 100, 'two': -54, 'three': 247}\n",
    "\n",
    "# 출력\n",
    "-1333800\n",
    "```"
   ]
  },
  {
   "cell_type": "code",
   "execution_count": 10,
   "metadata": {},
   "outputs": [
    {
     "name": "stdout",
     "output_type": "stream",
     "text": [
      "-1333800\n"
     ]
    }
   ],
   "source": [
    "my_dict = {'one': 100, 'two': -54, 'three': 247}\n",
    "\n",
    "num = my_dict.values()\n",
    "numbers = 1\n",
    "\n",
    "for i in num:\n",
    "    numbers *= i\n",
    "    \n",
    "print(numbers)"
   ]
  },
  {
   "cell_type": "markdown",
   "metadata": {},
   "source": [
    "### 문제\n",
    "리스트 키의 요소를 정렬하시오\n",
    "```python\n",
    "num = {'n1': [2, 3, 1, 9, 8], 'n2': [5, 1, 2, 3, 1], 'n3': [3, 2, 4, 9, 0]}\n",
    "\n",
    "# 출력 \n",
    "{'n1': [1, 2, 3, 8, 9], 'n2': [1, 1, 2, 3, 5], 'n3': [0, 2, 3, 4, 9]}\n",
    "```\n"
   ]
  },
  {
   "cell_type": "code",
   "execution_count": 45,
   "metadata": {},
   "outputs": [
    {
     "data": {
      "text/plain": [
       "{'n1': [1, 2, 3, 8, 9], 'n2': [1, 1, 2, 3, 5], 'n3': [0, 2, 3, 4, 9]}"
      ]
     },
     "execution_count": 45,
     "metadata": {},
     "output_type": "execute_result"
    }
   ],
   "source": [
    "num = {'n1': [2, 3, 1, 9, 8], 'n2': [5, 1, 2, 3, 1], 'n3': [3, 2, 4, 9, 0]}\n",
    "\n",
    "Dict = {key: sorted(val) for key, val in num.items()}\n",
    "\n",
    "Dict"
   ]
  },
  {
   "cell_type": "markdown",
   "metadata": {},
   "source": [
    "### 문제\n",
    "\n",
    "다음과 같은 딕셔너리가 있다면 아래와 같이 출력하시오\n",
    "\n",
    "```python\n",
    "dict_num = {1: 10, 2: 20, 3: 30, 4: 40, 5: 50, 6: 60}\n",
    "\n",
    "# 출력\n",
    "key  value  count                                                                                             \n",
    "1     10      1                                                                                               \n",
    "2     20      2                                                                                               \n",
    "3     30      3                                                                                               \n",
    "4     40      4                                                                                               \n",
    "5     50      5                                                                                               \n",
    "6     60      6\n",
    "```"
   ]
  },
  {
   "cell_type": "code",
   "execution_count": 72,
   "metadata": {
    "scrolled": true
   },
   "outputs": [
    {
     "name": "stdout",
     "output_type": "stream",
     "text": [
      "key  value  count\n",
      "1     10      1\n",
      "2     20      2\n",
      "3     30      3\n",
      "4     40      4\n",
      "5     50      5\n",
      "6     60      6\n"
     ]
    }
   ],
   "source": [
    "dict_num = {1: 10, 2: 20, 3: 30, 4: 40, 5: 50, 6: 60}\n",
    "\n",
    "print('key  value  count') \n",
    "count = 1\n",
    "for key, value in dict_num.items():\n",
    "    print(f'{key}     {value}      {count}') \n",
    "    count += 1"
   ]
  },
  {
   "cell_type": "code",
   "execution_count": 94,
   "metadata": {},
   "outputs": [
    {
     "name": "stdout",
     "output_type": "stream",
     "text": [
      "1      10       1\n",
      "2      20       2\n",
      "3      30       3\n",
      "4      40       4\n",
      "5      50       5\n",
      "6      60       6\n"
     ]
    }
   ],
   "source": [
    "dict_num = {1: 10, 2: 20, 3: 30, 4: 40, 5: 50, 6: 60}\n",
    "    \n",
    "for count, (key, value) in enumerate(dict_num.items(), 1):\n",
    "    print(f'{key:<6}{value:^5}{count:>6}')"
   ]
  },
  {
   "cell_type": "markdown",
   "metadata": {},
   "source": [
    "### 문제\n",
    "\n",
    "아래와 같은 딕셔너리를 분해하여 출력하시오\n",
    "\n",
    "```python\n",
    "students = {\n",
    "    'Harry': {'class': 'AD', 'student_id': 123456},\n",
    "    'Puja': {'class': 'INTER', 'student_id': 98762}\n",
    "}\n",
    "\n",
    "# 출력\n",
    "Harry\n",
    "class : AD\n",
    "student_id : 123456\n",
    "Puja\n",
    "class : INTER\n",
    "student_id : 98762\n",
    "```"
   ]
  },
  {
   "cell_type": "code",
   "execution_count": 76,
   "metadata": {},
   "outputs": [
    {
     "name": "stdout",
     "output_type": "stream",
     "text": [
      "Harry\n",
      "class : AD\n",
      "student_id : 123456\n",
      "Puja\n",
      "class : INTER\n",
      "student_id : 98762\n"
     ]
    }
   ],
   "source": [
    "students = {\n",
    "    'Harry': {'class': 'AD', 'student_id': 123456},\n",
    "    'Puja': {'class': 'INTER', 'student_id': 98762}\n",
    "}\n",
    "\n",
    "for key, val in students.items():\n",
    "    print(key)\n",
    "    for k2, v2 in val.items():\n",
    "        print(f'{k2} : {v2}')"
   ]
  },
  {
   "cell_type": "markdown",
   "metadata": {},
   "source": [
    "### 문제\n",
    "딕셔너리의 키인 리스트 요소의 총 개수를 구하시오\n",
    "```python\n",
    "sample = {'John': ['sub1', 'sub2', 'sub3'], 'Kcarl': ['sub7', 'sub123'], 'Jason': [21, 1, 900]}\n",
    "\n",
    "# 출력\n",
    "8\n",
    "```"
   ]
  },
  {
   "cell_type": "code",
   "execution_count": 86,
   "metadata": {},
   "outputs": [
    {
     "name": "stdout",
     "output_type": "stream",
     "text": [
      "8\n"
     ]
    }
   ],
   "source": [
    "sample = {'John': ['sub1', 'sub2', 'sub3'], 'Kcarl': ['sub7', 'sub123'], 'Jason': [21, 1, 900]}\n",
    "\n",
    "count = 0\n",
    "for val in sample.values():\n",
    "    count += len(val)\n",
    "    \n",
    "print(count)"
   ]
  },
  {
   "cell_type": "code",
   "execution_count": 89,
   "metadata": {},
   "outputs": [
    {
     "data": {
      "text/plain": [
       "8"
      ]
     },
     "execution_count": 89,
     "metadata": {},
     "output_type": "execute_result"
    }
   ],
   "source": [
    "sample = {'John': ['sub1', 'sub2', 'sub3'], 'Kcarl': ['sub7', 'sub123'], 'Jason': [21, 1, 900]}\n",
    "\n",
    "count = sum([len(val) for val in sample.values()])\n",
    "count"
   ]
  },
  {
   "cell_type": "code",
   "execution_count": 91,
   "metadata": {},
   "outputs": [
    {
     "data": {
      "text/plain": [
       "8"
      ]
     },
     "execution_count": 91,
     "metadata": {},
     "output_type": "execute_result"
    }
   ],
   "source": [
    "count = sum(map(len, sample.values()))\n",
    "count"
   ]
  },
  {
   "cell_type": "code",
   "execution_count": null,
   "metadata": {},
   "outputs": [],
   "source": []
  }
 ],
 "metadata": {
  "kernelspec": {
   "display_name": "Python 3",
   "language": "python",
   "name": "python3"
  },
  "language_info": {
   "codemirror_mode": {
    "name": "ipython",
    "version": 3
   },
   "file_extension": ".py",
   "mimetype": "text/x-python",
   "name": "python",
   "nbconvert_exporter": "python",
   "pygments_lexer": "ipython3",
   "version": "3.7.3"
  },
  "toc": {
   "base_numbering": 1,
   "nav_menu": {},
   "number_sections": true,
   "sideBar": true,
   "skip_h1_title": false,
   "title_cell": "Table of Contents",
   "title_sidebar": "Contents",
   "toc_cell": false,
   "toc_position": {},
   "toc_section_display": true,
   "toc_window_display": false
  }
 },
 "nbformat": 4,
 "nbformat_minor": 2
}
