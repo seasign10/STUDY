{
 "cells": [
  {
   "cell_type": "code",
   "execution_count": 17,
   "metadata": {},
   "outputs": [],
   "source": [
    "class ClassName:\n",
    "    count = 0   # 클래스 변수\n",
    "    \n",
    "    def __init__(self, name):   # 생성자\n",
    "        self.name = name   # 인스턴스 변수\n",
    "        ClassName.count += 1\n",
    "        \n",
    "    def get_name(self):   # 인스턴스 메서드 (호출은 인스턴스)\n",
    "        print(self.name)\n",
    "        \n",
    "    @classmethod          # 클래스 매서드 (호출은 클래스)\n",
    "    def get_count(cls):\n",
    "        print(cls.count)\n",
    "        \n",
    "    @staticmethod # 스태틱 메서드 (호출은 클래스) 필수인자가 없음. 영향이 없는 함수\n",
    "    def add(a, b):\n",
    "        return a + b\n",
    "        \n",
    "    def __str__(self):    # 인스턴스를 print했을 때 나오는 인스턴스 객체 표현을 수정\n",
    "        return '안녕하세요...'\n",
    "        "
   ]
  },
  {
   "cell_type": "code",
   "execution_count": 14,
   "metadata": {},
   "outputs": [],
   "source": [
    "sample = ClassName('이해인') # sample은 인스턴스"
   ]
  },
  {
   "cell_type": "code",
   "execution_count": 15,
   "metadata": {},
   "outputs": [
    {
     "name": "stdout",
     "output_type": "stream",
     "text": [
      "안녕하세요...\n"
     ]
    }
   ],
   "source": [
    "print(sample)"
   ]
  },
  {
   "cell_type": "code",
   "execution_count": 16,
   "metadata": {},
   "outputs": [
    {
     "data": {
      "text/plain": [
       "1"
      ]
     },
     "execution_count": 16,
     "metadata": {},
     "output_type": "execute_result"
    }
   ],
   "source": [
    "ClassName.count"
   ]
  },
  {
   "cell_type": "code",
   "execution_count": null,
   "metadata": {},
   "outputs": [],
   "source": []
  }
 ],
 "metadata": {
  "kernelspec": {
   "display_name": "Python 3",
   "language": "python",
   "name": "python3"
  },
  "language_info": {
   "codemirror_mode": {
    "name": "ipython",
    "version": 3
   },
   "file_extension": ".py",
   "mimetype": "text/x-python",
   "name": "python",
   "nbconvert_exporter": "python",
   "pygments_lexer": "ipython3",
   "version": "3.7.3"
  },
  "toc": {
   "base_numbering": 1,
   "nav_menu": {},
   "number_sections": true,
   "sideBar": true,
   "skip_h1_title": false,
   "title_cell": "Table of Contents",
   "title_sidebar": "Contents",
   "toc_cell": false,
   "toc_position": {},
   "toc_section_display": true,
   "toc_window_display": false
  }
 },
 "nbformat": 4,
 "nbformat_minor": 2
}
